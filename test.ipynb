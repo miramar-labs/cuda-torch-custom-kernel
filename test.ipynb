{
 "cells": [
  {
   "cell_type": "code",
   "execution_count": 1,
   "id": "pretty-advocate",
   "metadata": {},
   "outputs": [],
   "source": [
    "import torch"
   ]
  },
  {
   "cell_type": "code",
   "execution_count": 2,
   "id": "certified-james",
   "metadata": {},
   "outputs": [],
   "source": [
    "import CustomPyTorchCUDAKernel as CustCUDA"
   ]
  },
  {
   "cell_type": "code",
   "execution_count": 3,
   "id": "southern-journalism",
   "metadata": {},
   "outputs": [
    {
     "name": "stdout",
     "output_type": "stream",
     "text": [
      "tensor([-0.9224, -0.0188, -0.7667,  1.1617], device='cuda:0') tensor([ 0.3536, -0.1907,  0.4413, -0.8640], device='cuda:0') tensor([-0.5688, -0.2094, -0.3254,  0.2977], device='cuda:0')\n"
     ]
    }
   ],
   "source": [
    "if torch.cuda.is_available():\n",
    "    a = torch.cuda.FloatTensor(4)\n",
    "    b = torch.cuda.FloatTensor(4)\n",
    "    a.normal_()\n",
    "    b.normal_()\n",
    "    c = CustCUDA.add_gpu(a, b)\n",
    "    print(a, b, c)"
   ]
  },
  {
   "cell_type": "code",
   "execution_count": null,
   "id": "substantial-treasury",
   "metadata": {},
   "outputs": [],
   "source": []
  }
 ],
 "metadata": {
  "kernelspec": {
   "display_name": "Python 3",
   "language": "python",
   "name": "python3"
  },
  "language_info": {
   "codemirror_mode": {
    "name": "ipython",
    "version": 3
   },
   "file_extension": ".py",
   "mimetype": "text/x-python",
   "name": "python",
   "nbconvert_exporter": "python",
   "pygments_lexer": "ipython3",
   "version": "3.8.0"
  }
 },
 "nbformat": 4,
 "nbformat_minor": 5
}
