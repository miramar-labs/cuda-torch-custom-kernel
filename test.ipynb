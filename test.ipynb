{
 "cells": [
  {
   "cell_type": "code",
   "execution_count": 4,
   "id": "dedicated-billion",
   "metadata": {},
   "outputs": [],
   "source": [
    "import torch"
   ]
  },
  {
   "cell_type": "code",
   "execution_count": 5,
   "id": "utility-elimination",
   "metadata": {},
   "outputs": [],
   "source": [
    "import CustomPyTorchCUDAKernel as CustCUDA"
   ]
  },
  {
   "cell_type": "code",
   "execution_count": 6,
   "id": "indoor-british",
   "metadata": {},
   "outputs": [
    {
     "name": "stdout",
     "output_type": "stream",
     "text": [
      "tensor([-0.5502,  0.4615, -0.6627, -1.2349], device='cuda:0') tensor([0.1335, 0.1309, 0.6156, 0.5665], device='cuda:0') tensor([-0.4167,  0.5923, -0.0471, -0.6684], device='cuda:0')\n"
     ]
    }
   ],
   "source": [
    "if torch.cuda.is_available():\n",
    "    a = torch.cuda.FloatTensor(4)\n",
    "    b = torch.cuda.FloatTensor(4)\n",
    "    a.normal_()\n",
    "    b.normal_()\n",
    "    c = CustCUDA.add_gpu(a, b)\n",
    "    print(a, b, c)"
   ]
  },
  {
   "cell_type": "code",
   "execution_count": null,
   "id": "hidden-supplement",
   "metadata": {},
   "outputs": [],
   "source": []
  }
 ],
 "metadata": {
  "kernelspec": {
   "display_name": "Python 3",
   "language": "python",
   "name": "python3"
  },
  "language_info": {
   "codemirror_mode": {
    "name": "ipython",
    "version": 3
   },
   "file_extension": ".py",
   "mimetype": "text/x-python",
   "name": "python",
   "nbconvert_exporter": "python",
   "pygments_lexer": "ipython3",
   "version": "3.8.0"
  }
 },
 "nbformat": 4,
 "nbformat_minor": 5
}
